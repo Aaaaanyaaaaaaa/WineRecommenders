{
 "cells": [
  {
   "cell_type": "markdown",
   "metadata": {},
   "source": [
    "## ISSUES TO FIX\n",
    "\n",
    "1) AUTOMATIC SWITCH INSTEAD OF SWITCH WITH COMMAND /five \n",
    "\n",
    "\n",
    "2) MULTIPLE CHOICE ANSWERS APPENDING TO ARRAY. В данный момент не добавляется в массив ответов несколько сущностей из вопросов с множкственным выбором. Вроде бы массив читается, но ответ не добавляется \n",
    "\n",
    "\n",
    "3) ВЫВОД РЕКОММЕНДОВАННОГО ВИНА (это даже не issue, а просто недоделала)"
   ]
  },
  {
   "cell_type": "code",
   "execution_count": 20,
   "metadata": {},
   "outputs": [],
   "source": [
    "import telegram"
   ]
  },
  {
   "cell_type": "code",
   "execution_count": 22,
   "metadata": {},
   "outputs": [],
   "source": [
    "array_of_answers = []"
   ]
  },
  {
   "cell_type": "code",
   "execution_count": 24,
   "metadata": {},
   "outputs": [],
   "source": [
    "from telegram import (\n",
    "    Poll,\n",
    "    ParseMode,\n",
    "    KeyboardButton,\n",
    "    KeyboardButtonPollType,\n",
    "    ReplyKeyboardMarkup,\n",
    "    ReplyKeyboardRemove,\n",
    "    Update,\n",
    ")\n",
    "from telegram.ext import (\n",
    "    Updater,\n",
    "    CommandHandler,\n",
    "    PollAnswerHandler,\n",
    "    PollHandler,\n",
    "    MessageHandler,\n",
    "    Filters,\n",
    "    CallbackContext,\n",
    "    Handler,CallbackQueryHandler,\n",
    "    PollHandler\n",
    ")"
   ]
  },
  {
   "cell_type": "code",
   "execution_count": 25,
   "metadata": {},
   "outputs": [],
   "source": [
    "def start(update: Update, context: CallbackContext) -> None:\n",
    "    \"\"\"Inform user about what this bot can do\"\"\"\n",
    "    print(\"in question\")\n",
    "    update.message.reply_text(\n",
    "        'Please select /poll to get a Poll, /two, /three,/four, /five'\n",
    "    )\n",
    "    \n",
    "#  first question\n",
    "\n",
    "\n",
    "def poll(update: Update, context: CallbackContext) -> None:\n",
    "    \"\"\"Sends a predefined poll\"\"\"\n",
    "    questions = [\"Add sugar or sugar (or sweetener) and cream\", \"Add cream only \", \" Add lemon only\", \"Take it straight without cream or sugar\", \"Don't drink coffee\"]\n",
    "    message = context.bot.send_poll(\n",
    "        update.effective_chat.id,\n",
    "        \"If you drink coffee, which statement would best describe how you prefer it:\",\n",
    "        questions,\n",
    "        is_anonymous=False,\n",
    "        allows_multiple_answers=True,\n",
    "    )\n",
    "    # Save some info about the poll the bot_data for later use in receive_poll_answer\n",
    "    payload = {\n",
    "        message.poll.id: {\n",
    "            \"questions\": questions,\n",
    "            \"message_id\": message.message_id,\n",
    "            \"chat_id\": update.effective_chat.id,\n",
    "            \"answers\": 0,\n",
    "        }\n",
    "    }\n",
    "    context.bot_data.update(payload)\n",
    "    print(context.data)\n",
    "\n",
    "\n",
    "#recieving results and  appending them to array. \n",
    "def receive_poll_answer(update: Update, context: CallbackContext) -> None:\n",
    "    \"\"\"Summarize a users poll vote\"\"\"\n",
    "    answer = update.poll_answer\n",
    "    poll_id = answer.poll_id\n",
    "    try:\n",
    "        questions = context.bot_data[poll_id][\"questions\"]\n",
    "    # this means this poll answer update is from an old poll, we can't do our answering then\n",
    "    except KeyError:\n",
    "        return\n",
    "    selected_options = answer.option_ids\n",
    "    answer_string = \"\"\n",
    "    print(selected_options)\n",
    "    array_of_answers.append( questions[selected_options[0]] )\n",
    "        \n",
    "    button = [[KeyboardButton(\"Press me!\", request_poll=KeyboardButtonPollType())]]\n",
    "#     message = \"Press the button to let the bot generate a preview for your poll\"\n",
    "    # using one_time_keyboard to hide the keyboard\n",
    "    update.effective_message.reply_text(\n",
    "        '/next', reply_markup=ReplyKeyboardMarkup(button, one_time_keyboard=True)\n",
    "    )\n",
    "    \n",
    "\n",
    " #2nd question   \n",
    "    \n",
    "    \n",
    "\n",
    "        \n",
    "def poll2(update: Update, context: CallbackContext) -> None:\n",
    "    \"\"\"Sends a predefined poll\"\"\"\n",
    "    questions2 = [\"Fairly strong\", \"Average strength\", \"Mostly on the lighter or weak side\", \"Any strength, but cut with sugar or sweetener\"]\n",
    "\n",
    "    message = context.bot.send_poll(\n",
    "        update.effective_chat.id,\n",
    "        \"If you drink coffee or tea, do you like it:\",\n",
    "        questions2,\n",
    "        is_anonymous=False,\n",
    "        allows_multiple_answers=False,\n",
    "    )\n",
    "    # Save some info about the poll the bot_data for later use in receive_poll_answer\n",
    "    payload = {\n",
    "        message.poll.id: {\n",
    "            \"questions\": questions2,\n",
    "            \"message_id\": message.message_id,\n",
    "            \"chat_id\": update.effective_chat.id,\n",
    "            \"answers\": 0,\n",
    "        }\n",
    "    }\n",
    "    context.bot_data.update(payload)\n",
    "\n",
    "\n",
    "def receive_poll2_answer(update: Update, context: CallbackContext) -> None:\n",
    "    \"\"\"Summarize a users poll vote\"\"\"\n",
    "    answer = update.poll_answer\n",
    "    poll_id = answer.poll_id\n",
    "    try:\n",
    "        questions2 = context.bot_data[poll_id][\"questions\"]\n",
    "    # this means this poll answer update is from an old poll, we can't do our answering then\n",
    "    except KeyError:\n",
    "        return\n",
    "    selected_options = answer.option_ids\n",
    "    answer_string = \"\"\n",
    "    print(selected_options)\n",
    "    array_of_answers.append(questions2[selected_options[0]] )\n",
    "    \n",
    "  \n",
    " #3rd question\n",
    "\n",
    "def poll3(update: Update, context: CallbackContext) -> None:\n",
    "    \"\"\"Sends a predefined poll\"\"\"\n",
    "    questions3 = [\"Add sugar or sugar (or sweetener) and cream\", \n",
    "                  \"Add lemon only\", \n",
    "                  \"Drink only herbal tea\", \n",
    "                  \"Take it straight without cream or sugar\",\n",
    "                 \"Don't drink tea\"]\n",
    "\n",
    "    message = context.bot.send_poll(\n",
    "        update.effective_chat.id,\n",
    "        \"If you drink iced tea or hot tea, either black or green, Which of the below best describes how do you prefer it?\",\n",
    "        questions3,\n",
    "        is_anonymous=False,\n",
    "        allows_multiple_answers=False,\n",
    "    )\n",
    "    # Save some info about the poll the bot_data for later use in receive_poll_answer\n",
    "    payload = {\n",
    "        message.poll.id: {\n",
    "            \"questions\": questions3,\n",
    "            \"message_id\": message.message_id,\n",
    "            \"chat_id\": update.effective_chat.id,\n",
    "            \"answers\": 0,\n",
    "        }\n",
    "    }\n",
    "    context.bot_data.update(payload)\n",
    "\n",
    "\n",
    "def receive_poll3_answer(update: Update, context: CallbackContext) -> None:\n",
    "    \"\"\"Summarize a users poll vote\"\"\"\n",
    "    answer = update.poll_answer\n",
    "    poll_id = answer.poll_id\n",
    "    try:\n",
    "        questions3 = context.bot_data[poll_id][\"questions\"]\n",
    "    # this means this poll answer update is from an old poll, we can't do our answering then\n",
    "    except KeyError:\n",
    "        return\n",
    "    selected_options = answer.option_ids\n",
    "    answer_string = \"\"\n",
    "    print(selected_options)\n",
    "    array_of_answers.append(questions3[selected_options[0]] )\n",
    "    \n",
    "\n",
    "    #3rth question\n",
    "def poll4(update: Update, context: CallbackContext) -> None:\n",
    "    \"\"\"Sends a predefined poll\"\"\"\n",
    "    questions4 = [\" water or non alcoholic drink only\", \n",
    "                  \"a good beer\", \n",
    "                 \"a good wine (still, non sparkling)\",\n",
    "                  \"a sparkling wine, Champagne\",\n",
    "                  \"mixed or straight spirit drink\",\n",
    "                  \"a cocktail with slight sweetness\"\n",
    "                 ]\n",
    "\n",
    "    message = context.bot.send_poll(\n",
    "        update.effective_chat.id,\n",
    "        \"When you go out to a nice restaurant for a special occasion meal and price and calories are not major factors, pick the answer that most closely describes what beverage you would first order when the wait staff asks what drink they can get you:\",\n",
    "        questions4,\n",
    "        is_anonymous=False,\n",
    "        allows_multiple_answers=False,\n",
    "    )\n",
    "    # Save some info about the poll the bot_data for later use in receive_poll_answer\n",
    "    payload = {\n",
    "        message.poll.id: {\n",
    "            \"questions\": questions4,\n",
    "            \"message_id\": message.message_id,\n",
    "            \"chat_id\": update.effective_chat.id,\n",
    "            \"answers\": 0,\n",
    "        }\n",
    "    }\n",
    "    context.bot_data.update(payload)\n",
    "\n",
    "\n",
    "def receive_poll4_answer(update: Update, context: CallbackContext) -> None:\n",
    "    \"\"\"Summarize a users poll vote\"\"\"\n",
    "    answer = update.poll_answer\n",
    "    poll_id = answer.poll_id\n",
    "    try:\n",
    "        questions4 = context.bot_data[poll_id][\"questions\"]\n",
    "    # this means this poll answer update is from an old poll, we can't do our answering then\n",
    "    except KeyError:\n",
    "        return\n",
    "    selected_options = answer.option_ids\n",
    "    answer_string = \"\"\n",
    "    print(selected_options)\n",
    "    array_of_answers.append(questions4[selected_options[0]] )\n",
    "    \n",
    "#5questions \n",
    "\n",
    "def poll5(update: Update, context: CallbackContext) -> None:\n",
    "    \"\"\"Sends a predefined poll\"\"\"\n",
    "    questions5 = [ \"Martini\",\n",
    "   \"Bourbon or Scotch\",\n",
    "   \"Margarita\",\n",
    "   \"Mai Tai or Cosmopolitan\",\n",
    "   \"Sparkling wine\",\n",
    "   \"Rarely or never drink cocktails or distilled spirits\"\n",
    "                 ]\n",
    "\n",
    "    message = context.bot.send_poll(\n",
    "        update.effective_chat.id,\n",
    "        \"If you occasionally drink cocktails or distilled spirits, which would you be more likely to choose:\",\n",
    "        questions5,\n",
    "        is_anonymous=False,\n",
    "        allows_multiple_answers=True,\n",
    "    )\n",
    "    # Save some info about the poll the bot_data for later use in receive_poll_answer\n",
    "    payload = {\n",
    "        message.poll.id: {\n",
    "            \"questions\": questions5,\n",
    "            \"message_id\": message.message_id,\n",
    "            \"chat_id\": update.effective_chat.id,\n",
    "            \"answers\": 0,\n",
    "        }\n",
    "    }\n",
    "    context.bot_data.update(payload)\n",
    "\n",
    "\n",
    "def receive_poll5_answer(update: Update, context: CallbackContext) -> None:\n",
    "    \"\"\"Summarize a users poll vote\"\"\"\n",
    "    answer = update.poll_answer\n",
    "    poll_id = answer.poll_id\n",
    "    try:\n",
    "        questions5 = context.bot_data[poll_id][\"questions\"]\n",
    "    # this means this poll answer update is from an old poll, we can't do our answering then\n",
    "    except KeyError:\n",
    "        return\n",
    "    selected_options = answer.option_ids\n",
    "    answer_string = \"\"\n",
    "   \n",
    "    \n",
    "    for question_id in selected_options:\n",
    "        if question_id != selected_options[-1]:\n",
    "            answer_string += questions[question_id] + \" and \"\n",
    "        else:\n",
    "            answer_string += questions[question_id]\n",
    "    context.bot.send_message(\n",
    "        context.bot_data[poll_id][\"chat_id\"],\n",
    "        f\"{update.effective_user.mention_html()} feels {answer_string}!\",\n",
    "        parse_mode=ParseMode.HTML,\n",
    "    ) \n",
    "    \n",
    "    array_of_answers.append(answer_string)\n",
    "    \n",
    "\n",
    "\n",
    "# def quiz(update: Update, context: CallbackContext) -> None:\n",
    "#     \"\"\"Send a predefined poll\"\"\"\n",
    "#     questions = [\"1\", \"2\", \"4\", \"20\"]\n",
    "#     message = update.effective_message.reply_poll(\n",
    "#         \"How many eggs do you need for a cake?\", questions, type=Poll.QUIZ, correct_option_id=2\n",
    "#     )\n",
    "#     # Save some info about the poll the bot_data for later use in receive_quiz_answer\n",
    "#     payload = {\n",
    "#         message.poll.id: {\"chat_id\": update.effective_chat.id, \"message_id\": message.message_id}\n",
    "#     }\n",
    "#     context.bot_data.update(payload)\n",
    "\n",
    "\n",
    "# def receive_quiz_answer(update: Update, context: CallbackContext) -> None:\n",
    "#     \"\"\"Close quiz after three participants took it\"\"\"\n",
    "#     # the bot can receive closed poll updates we don't care about\n",
    "#     if update.poll.is_closed:\n",
    "#         return\n",
    "#     if update.poll.total_voter_count == 3:\n",
    "#         try:\n",
    "#             quiz_data = context.bot_data[update.poll.id]\n",
    "#         # this means this poll answer update is from an old poll, we can't stop it then\n",
    "#         except KeyError:\n",
    "#             return\n",
    "#         context.bot.stop_poll(quiz_data[\"chat_id\"], quiz_data[\"message_id\"])\n",
    "\n",
    "\n",
    "def preview(update: Update, context: CallbackContext) -> None:\n",
    "    \"\"\"Ask user to create a poll and display a preview of it\"\"\"\n",
    "    # using this without a type lets the user chooses what he wants (quiz or poll)\n",
    "    button = [[KeyboardButton(\"Press me!\", request_poll=KeyboardButtonPollType())]]\n",
    "    message = \"Press the button to let the bot generate a preview for your poll\"\n",
    "    # using one_time_keyboard to hide the keyboard\n",
    "    update.effective_message.reply_text(\n",
    "        message, reply_markup=ReplyKeyboardMarkup(button, one_time_keyboard=True)\n",
    "    )\n",
    "\n",
    "\n",
    "def receive_poll(update: Update, context: CallbackContext) -> None:\n",
    "    \"\"\"On receiving polls, reply to it by a closed poll copying the received poll\"\"\"\n",
    "    actual_poll = update.effective_message.poll\n",
    "    # Only need to set the question and options, since all other parameters don't matter for\n",
    "    # a closed poll\n",
    "    update.effective_message.reply_poll(\n",
    "        question=actual_poll.question,\n",
    "        options=[o for o in array_of_answers],\n",
    "        # with is_closed true, the poll/quiz is immediately closed\n",
    "        is_closed=True,\n",
    "        reply_markup=ReplyKeyboardRemove(),\n",
    "    )\n",
    "\n",
    "\n",
    "def help_handler(update: Update, context: CallbackContext) -> None:\n",
    "    \"\"\"Display a help message\"\"\"\n",
    "    update.message.reply_text(\"Use /quiz, /poll or /preview to test this bot.\")\n",
    "\n"
   ]
  },
  {
   "cell_type": "code",
   "execution_count": 26,
   "metadata": {},
   "outputs": [],
   "source": [
    "TOKEN =  \"YOUR BOT TOKEN\"#'1772401487:AAGUTeJKFlZ4uNRXRe0qV9U6dCSVjNce3mg'"
   ]
  },
  {
   "cell_type": "code",
   "execution_count": 27,
   "metadata": {},
   "outputs": [
    {
     "name": "stdout",
     "output_type": "stream",
     "text": [
      "in question\n"
     ]
    },
    {
     "name": "stderr",
     "output_type": "stream",
     "text": [
      "No error handlers are registered, logging exception.\n",
      "Traceback (most recent call last):\n",
      "  File \"/Users/Anna.Rudenko/opt/anaconda3/lib/python3.7/site-packages/telegram/ext/dispatcher.py\", line 555, in process_update\n",
      "    handler.handle_update(update, self, check, context)\n",
      "  File \"/Users/Anna.Rudenko/opt/anaconda3/lib/python3.7/site-packages/telegram/ext/handler.py\", line 198, in handle_update\n",
      "    return self.callback(update, context)\n",
      "  File \"<ipython-input-25-681b29c531c4>\", line 29, in poll\n",
      "    print(context.data)\n",
      "AttributeError: 'CallbackContext' object has no attribute 'data'\n",
      "No error handlers are registered, logging exception.\n",
      "Traceback (most recent call last):\n",
      "  File \"/Users/Anna.Rudenko/opt/anaconda3/lib/python3.7/site-packages/telegram/ext/dispatcher.py\", line 555, in process_update\n",
      "    handler.handle_update(update, self, check, context)\n",
      "  File \"/Users/Anna.Rudenko/opt/anaconda3/lib/python3.7/site-packages/telegram/ext/handler.py\", line 198, in handle_update\n",
      "    return self.callback(update, context)\n",
      "  File \"<ipython-input-25-681b29c531c4>\", line 50, in receive_poll_answer\n",
      "    update.effective_message.reply_text(\n",
      "AttributeError: 'NoneType' object has no attribute 'reply_text'\n"
     ]
    },
    {
     "name": "stdout",
     "output_type": "stream",
     "text": [
      "[4]\n"
     ]
    },
    {
     "name": "stderr",
     "output_type": "stream",
     "text": [
      "No error handlers are registered, logging exception.\n",
      "Traceback (most recent call last):\n",
      "  File \"/Users/Anna.Rudenko/opt/anaconda3/lib/python3.7/site-packages/telegram/ext/dispatcher.py\", line 555, in process_update\n",
      "    handler.handle_update(update, self, check, context)\n",
      "  File \"/Users/Anna.Rudenko/opt/anaconda3/lib/python3.7/site-packages/telegram/ext/handler.py\", line 198, in handle_update\n",
      "    return self.callback(update, context)\n",
      "  File \"<ipython-input-25-681b29c531c4>\", line 50, in receive_poll_answer\n",
      "    update.effective_message.reply_text(\n",
      "AttributeError: 'NoneType' object has no attribute 'reply_text'\n"
     ]
    },
    {
     "name": "stdout",
     "output_type": "stream",
     "text": [
      "[2]\n"
     ]
    },
    {
     "name": "stderr",
     "output_type": "stream",
     "text": [
      "No error handlers are registered, logging exception.\n",
      "Traceback (most recent call last):\n",
      "  File \"/Users/Anna.Rudenko/opt/anaconda3/lib/python3.7/site-packages/telegram/ext/dispatcher.py\", line 555, in process_update\n",
      "    handler.handle_update(update, self, check, context)\n",
      "  File \"/Users/Anna.Rudenko/opt/anaconda3/lib/python3.7/site-packages/telegram/ext/handler.py\", line 198, in handle_update\n",
      "    return self.callback(update, context)\n",
      "  File \"<ipython-input-25-681b29c531c4>\", line 50, in receive_poll_answer\n",
      "    update.effective_message.reply_text(\n",
      "AttributeError: 'NoneType' object has no attribute 'reply_text'\n"
     ]
    },
    {
     "name": "stdout",
     "output_type": "stream",
     "text": [
      "[3]\n"
     ]
    },
    {
     "name": "stderr",
     "output_type": "stream",
     "text": [
      "No error handlers are registered, logging exception.\n",
      "Traceback (most recent call last):\n",
      "  File \"/Users/Anna.Rudenko/opt/anaconda3/lib/python3.7/site-packages/telegram/ext/dispatcher.py\", line 555, in process_update\n",
      "    handler.handle_update(update, self, check, context)\n",
      "  File \"/Users/Anna.Rudenko/opt/anaconda3/lib/python3.7/site-packages/telegram/ext/handler.py\", line 198, in handle_update\n",
      "    return self.callback(update, context)\n",
      "  File \"<ipython-input-25-681b29c531c4>\", line 50, in receive_poll_answer\n",
      "    update.effective_message.reply_text(\n",
      "AttributeError: 'NoneType' object has no attribute 'reply_text'\n"
     ]
    },
    {
     "name": "stdout",
     "output_type": "stream",
     "text": [
      "[3]\n"
     ]
    },
    {
     "name": "stderr",
     "output_type": "stream",
     "text": [
      "No error handlers are registered, logging exception.\n",
      "Traceback (most recent call last):\n",
      "  File \"/Users/Anna.Rudenko/opt/anaconda3/lib/python3.7/site-packages/telegram/ext/dispatcher.py\", line 555, in process_update\n",
      "    handler.handle_update(update, self, check, context)\n",
      "  File \"/Users/Anna.Rudenko/opt/anaconda3/lib/python3.7/site-packages/telegram/ext/handler.py\", line 198, in handle_update\n",
      "    return self.callback(update, context)\n",
      "  File \"<ipython-input-25-681b29c531c4>\", line 50, in receive_poll_answer\n",
      "    update.effective_message.reply_text(\n",
      "AttributeError: 'NoneType' object has no attribute 'reply_text'\n"
     ]
    },
    {
     "name": "stdout",
     "output_type": "stream",
     "text": [
      "[1]\n"
     ]
    }
   ],
   "source": [
    "updater = Updater(TOKEN)\n",
    "dispatcher = updater.dispatcher\n",
    "dispatcher.add_handler(CommandHandler('start', start))\n",
    "dispatcher.add_handler(CommandHandler('poll', poll))\n",
    "dispatcher.add_handler(PollAnswerHandler(receive_poll_answer))\n",
    "dispatcher.add_handler(CommandHandler('two', poll2))\n",
    "dispatcher.add_handler(PollAnswerHandler(receive_poll2_answer))\n",
    "dispatcher.add_handler(CommandHandler('three', poll3))\n",
    "dispatcher.add_handler(PollAnswerHandler(receive_poll3_answer))\n",
    "dispatcher.add_handler(CommandHandler('four', poll4))\n",
    "dispatcher.add_handler(PollAnswerHandler(receive_poll4_answer))\n",
    "dispatcher.add_handler(CommandHandler('five', poll5))\n",
    "dispatcher.add_handler(PollAnswerHandler(receive_poll5_answer))\n",
    "# dispatcher.add_handler(CommandHandler('quiz', quiz))\n",
    "# dispatcher.add_handler(PollHandler(receive_quiz_answer))\n",
    "dispatcher.add_handler(CommandHandler('preview', preview))\n",
    "dispatcher.add_handler(MessageHandler(Filters.poll, receive_poll))\n",
    "dispatcher.add_handler(CommandHandler('help', help_handler))\n",
    "\n",
    "# Start the Bot\n",
    "updater.start_polling()\n",
    "\n",
    "# Run the bot until the user presses Ctrl-C or the process receives SIGINT,\n",
    "# SIGTERM or SIGABRT\n",
    "updater.idle()\n"
   ]
  },
  {
   "cell_type": "code",
   "execution_count": 66,
   "metadata": {},
   "outputs": [
    {
     "data": {
      "text/plain": [
       "' Add lemon onlyAny strength, but cut with sugar or sweetener'"
      ]
     },
     "execution_count": 66,
     "metadata": {},
     "output_type": "execute_result"
    }
   ],
   "source": [
    "user.q_1"
   ]
  },
  {
   "cell_type": "code",
   "execution_count": 67,
   "metadata": {},
   "outputs": [
    {
     "data": {
      "text/plain": [
       "(' Add lemon onlyAny strength, but cut with sugar or sweetener', '')"
      ]
     },
     "execution_count": 67,
     "metadata": {},
     "output_type": "execute_result"
    }
   ],
   "source": [
    "user.q_1, user.q_2"
   ]
  },
  {
   "cell_type": "code",
   "execution_count": 28,
   "metadata": {},
   "outputs": [
    {
     "data": {
      "text/plain": [
       "[\"Don't drink coffee\",\n",
       " 'Mostly on the lighter or weak side',\n",
       " 'Take it straight without cream or sugar',\n",
       " 'a sparkling wine, Champagne',\n",
       " 'Bourbon or Scotch']"
      ]
     },
     "execution_count": 28,
     "metadata": {},
     "output_type": "execute_result"
    }
   ],
   "source": [
    "array_of_answers"
   ]
  },
  {
   "cell_type": "code",
   "execution_count": null,
   "metadata": {},
   "outputs": [],
   "source": [
    " "
   ]
  }
 ],
 "metadata": {
  "kernelspec": {
   "display_name": "Python 3",
   "language": "python",
   "name": "python3"
  },
  "language_info": {
   "codemirror_mode": {
    "name": "ipython",
    "version": 3
   },
   "file_extension": ".py",
   "mimetype": "text/x-python",
   "name": "python",
   "nbconvert_exporter": "python",
   "pygments_lexer": "ipython3",
   "version": "3.7.6"
  }
 },
 "nbformat": 4,
 "nbformat_minor": 4
}
